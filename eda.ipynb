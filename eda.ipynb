{
 "cells": [
  {
   "cell_type": "code",
   "execution_count": 12,
   "id": "e4b8afa5",
   "metadata": {},
   "outputs": [],
   "source": [
    "import pandas as pd\n",
    "import numpy as np"
   ]
  },
  {
   "cell_type": "code",
   "execution_count": 48,
   "id": "e54d66d2",
   "metadata": {},
   "outputs": [
    {
     "name": "stdout",
     "output_type": "stream",
     "text": [
      "Index(['id', 'keyword', 'location', 'text', 'target'], dtype='object')\n"
     ]
    }
   ],
   "source": [
    "train = pd.read_csv(\"./data/train.csv\")\n",
    "print(train.columns)"
   ]
  },
  {
   "cell_type": "code",
   "execution_count": 68,
   "id": "43a454c4",
   "metadata": {},
   "outputs": [
    {
     "data": {
      "text/plain": [
       "0    Our Deeds are the Reason of this #earthquake M...\n",
       "1               Forest fire near La Ronge Sask. Canada\n",
       "2    All residents asked to 'shelter in place' are ...\n",
       "3    13,000 people receive #wildfires evacuation or...\n",
       "4    Just got sent this photo from Ruby #Alaska as ...\n",
       "Name: text, dtype: object"
      ]
     },
     "execution_count": 68,
     "metadata": {},
     "output_type": "execute_result"
    }
   ],
   "source": [
    "train.text.head()"
   ]
  },
  {
   "cell_type": "code",
   "execution_count": 50,
   "id": "b1c35961",
   "metadata": {},
   "outputs": [
    {
     "data": {
      "text/plain": [
       "target\n",
       "0    0.57034\n",
       "1    0.42966\n",
       "Name: proportion, dtype: float64"
      ]
     },
     "execution_count": 50,
     "metadata": {},
     "output_type": "execute_result"
    }
   ],
   "source": [
    "# Balanced target\n",
    "train.target.value_counts(normalize=True)"
   ]
  },
  {
   "cell_type": "code",
   "execution_count": 62,
   "id": "3c707024",
   "metadata": {},
   "outputs": [
    {
     "name": "stdout",
     "output_type": "stream",
     "text": [
      "keyword\n",
      "False    0.991987\n",
      "True     0.008013\n",
      "Name: proportion, dtype: float64\n",
      "location\n",
      "False    0.66728\n",
      "True     0.33272\n",
      "Name: proportion, dtype: float64\n"
     ]
    }
   ],
   "source": [
    "# Check null proportion of keyword and location\n",
    "print(train.keyword.isna().value_counts(normalize=True))\n",
    "print(train.location.isna().value_counts(normalize=True))"
   ]
  },
  {
   "cell_type": "code",
   "execution_count": 65,
   "id": "97623390",
   "metadata": {},
   "outputs": [
    {
     "data": {
      "text/plain": [
       "keyword\n",
       "fatalities               0.005959\n",
       "deluge                   0.005561\n",
       "armageddon               0.005561\n",
       "damage                   0.005429\n",
       "body%20bags              0.005429\n",
       "                           ...   \n",
       "forest%20fire            0.002516\n",
       "epicentre                0.001589\n",
       "threat                   0.001457\n",
       "inundation               0.001324\n",
       "radiation%20emergency    0.001192\n",
       "Name: proportion, Length: 221, dtype: float64"
      ]
     },
     "execution_count": 65,
     "metadata": {},
     "output_type": "execute_result"
    }
   ],
   "source": [
    "# Proportion of non-null keywords\n",
    "train[~train.keyword.isna()].keyword.value_counts(normalize=True)"
   ]
  },
  {
   "cell_type": "code",
   "execution_count": 66,
   "id": "4d872f16",
   "metadata": {},
   "outputs": [
    {
     "data": {
      "text/plain": [
       "location\n",
       "USA                            0.020472\n",
       "New York                       0.013976\n",
       "United States                  0.009843\n",
       "London                         0.008858\n",
       "Canada                         0.005709\n",
       "                                 ...   \n",
       "Click the link below, okay     0.000197\n",
       "Milwaukee County               0.000197\n",
       "Gwersyllt, Wales               0.000197\n",
       "Primum non nocere              0.000197\n",
       "Alabama, USA                   0.000197\n",
       "Name: proportion, Length: 3341, dtype: float64"
      ]
     },
     "execution_count": 66,
     "metadata": {},
     "output_type": "execute_result"
    }
   ],
   "source": [
    "# Proportion of non-null locations\n",
    "train[~train.location.isna()].location.value_counts(normalize=True)"
   ]
  },
  {
   "cell_type": "markdown",
   "id": "ad5ea0f4",
   "metadata": {},
   "source": [
    "### How to split for cross validation \n"
   ]
  }
 ],
 "metadata": {
  "kernelspec": {
   "display_name": "nlp-disaster-tweets",
   "language": "python",
   "name": "nlp-disaster-tweets"
  },
  "language_info": {
   "codemirror_mode": {
    "name": "ipython",
    "version": 3
   },
   "file_extension": ".py",
   "mimetype": "text/x-python",
   "name": "python",
   "nbconvert_exporter": "python",
   "pygments_lexer": "ipython3",
   "version": "3.9.7"
  }
 },
 "nbformat": 4,
 "nbformat_minor": 5
}
