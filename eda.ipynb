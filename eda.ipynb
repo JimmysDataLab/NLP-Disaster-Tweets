{
 "cells": [
  {
   "cell_type": "code",
   "execution_count": 1,
   "id": "e4b8afa5",
   "metadata": {},
   "outputs": [],
   "source": [
    "import pandas as pd\n",
    "import numpy as np\n",
    "import re\n",
    "\n",
    "pd.set_option('display.max_colwidth', None)"
   ]
  },
  {
   "cell_type": "code",
   "execution_count": 2,
   "id": "e54d66d2",
   "metadata": {},
   "outputs": [
    {
     "name": "stdout",
     "output_type": "stream",
     "text": [
      "Index(['id', 'keyword', 'location', 'text'], dtype='object')\n"
     ]
    }
   ],
   "source": [
    "train = pd.read_csv(\"./data/train.csv\", encoding = 'utf-8')\n",
    "test = pd.read_csv(\"./data/test.csv\", encoding = 'utf-8')\n",
    "print(test.columns)"
   ]
  },
  {
   "cell_type": "code",
   "execution_count": 3,
   "id": "b1c35961",
   "metadata": {},
   "outputs": [
    {
     "data": {
      "text/plain": [
       "target\n",
       "0    0.57034\n",
       "1    0.42966\n",
       "Name: proportion, dtype: float64"
      ]
     },
     "execution_count": 3,
     "metadata": {},
     "output_type": "execute_result"
    }
   ],
   "source": [
    "# Check target balance\n",
    "train.target.value_counts(normalize=True)"
   ]
  },
  {
   "cell_type": "code",
   "execution_count": 4,
   "id": "dd8170d7",
   "metadata": {},
   "outputs": [
    {
     "data": {
      "text/plain": [
       "target\n",
       "False    1.0\n",
       "Name: proportion, dtype: float64"
      ]
     },
     "execution_count": 4,
     "metadata": {},
     "output_type": "execute_result"
    }
   ],
   "source": [
    "# Check target null proportion\n",
    "train.target.isna().value_counts(normalize=True)"
   ]
  },
  {
   "cell_type": "code",
   "execution_count": 5,
   "id": "3c707024",
   "metadata": {},
   "outputs": [
    {
     "name": "stdout",
     "output_type": "stream",
     "text": [
      "keyword\n",
      "False    0.991987\n",
      "True     0.008013\n",
      "Name: proportion, dtype: float64\n",
      "location\n",
      "False    0.66728\n",
      "True     0.33272\n",
      "Name: proportion, dtype: float64\n"
     ]
    }
   ],
   "source": [
    "# Check null proportion of keyword and location\n",
    "print(train.keyword.isna().value_counts(normalize=True))\n",
    "print(train.location.isna().value_counts(normalize=True))"
   ]
  },
  {
   "cell_type": "code",
   "execution_count": 6,
   "id": "97623390",
   "metadata": {},
   "outputs": [
    {
     "data": {
      "text/plain": [
       "keyword\n",
       "fatalities               0.005959\n",
       "deluge                   0.005561\n",
       "armageddon               0.005561\n",
       "sinking                  0.005429\n",
       "damage                   0.005429\n",
       "                           ...   \n",
       "forest%20fire            0.002516\n",
       "epicentre                0.001589\n",
       "threat                   0.001457\n",
       "inundation               0.001324\n",
       "radiation%20emergency    0.001192\n",
       "Name: proportion, Length: 221, dtype: float64"
      ]
     },
     "execution_count": 6,
     "metadata": {},
     "output_type": "execute_result"
    }
   ],
   "source": [
    "# Proportion of non-null keywords\n",
    "train[~train.keyword.isna()].keyword.value_counts(normalize=True)"
   ]
  },
  {
   "cell_type": "code",
   "execution_count": 7,
   "id": "4d872f16",
   "metadata": {},
   "outputs": [
    {
     "data": {
      "text/plain": [
       "location\n",
       "USA                    0.020472\n",
       "New York               0.013976\n",
       "United States          0.009843\n",
       "London                 0.008858\n",
       "Canada                 0.005709\n",
       "                         ...   \n",
       "MontrÌ©al, QuÌ©bec     0.000197\n",
       "Montreal               0.000197\n",
       "ÌÏT: 6.4682,3.18287    0.000197\n",
       "Live4Heed??            0.000197\n",
       "Lincoln                0.000197\n",
       "Name: proportion, Length: 3341, dtype: float64"
      ]
     },
     "execution_count": 7,
     "metadata": {},
     "output_type": "execute_result"
    }
   ],
   "source": [
    "# Proportion of non-null locations\n",
    "train[~train.location.isna()].location.value_counts(normalize=True)"
   ]
  },
  {
   "cell_type": "markdown",
   "id": "ad5ea0f4",
   "metadata": {},
   "source": [
    "### Stratified k-fold cross validation split\n"
   ]
  },
  {
   "cell_type": "code",
   "execution_count": 8,
   "id": "0d4a825f",
   "metadata": {},
   "outputs": [],
   "source": [
    "from sklearn.model_selection import StratifiedKFold"
   ]
  },
  {
   "cell_type": "code",
   "execution_count": 9,
   "id": "d0e63fa5",
   "metadata": {},
   "outputs": [],
   "source": [
    "skf = StratifiedKFold(n_splits=10,shuffle=True,random_state = 56)\n",
    "X = train[['id','keyword','location','text']]\n",
    "y = train[['target']]"
   ]
  },
  {
   "cell_type": "code",
   "execution_count": 10,
   "id": "98639549",
   "metadata": {},
   "outputs": [],
   "source": [
    "# Create a generator from the above giving the actual dataset\n",
    "def data_gen(X,y):\n",
    "    # Creates a generator giving indices for each split\n",
    "    for index_arr in skf.split(X,y):\n",
    "        # Yields corresponding X_train, X_test, y_train, y_test\n",
    "        yield X.loc[index_arr[0]],X.loc[index_arr[1]], y.loc[index_arr[0]],y.loc[index_arr[1]]\n",
    "\n",
    "data = data_gen(X,y)"
   ]
  },
  {
   "cell_type": "markdown",
   "id": "eaacfada",
   "metadata": {},
   "source": [
    "### Feature Addition and Engineering"
   ]
  },
  {
   "cell_type": "markdown",
   "id": "64f76d29",
   "metadata": {},
   "source": [
    "* create another feature that extracts #words from text \n",
    "* create another feature that extracts @mention from text\n",
    "* remove links from text\n",
    "* remove @mention from text\n",
    "* remove # symbol from text"
   ]
  },
  {
   "cell_type": "code",
   "execution_count": 11,
   "id": "7d3307f2",
   "metadata": {},
   "outputs": [],
   "source": [
    "class PreProcess():\n",
    "    \n",
    "    \n",
    "    def add_hashtags(text):\n",
    "\n",
    "        tags = re.findall(r'#\\w+',text)\n",
    "        tags = ','.join([e.replace('#','') for e in tags])\n",
    "        tags = tags.lower()\n",
    "\n",
    "        return tags if tags != '' else np.nan\n",
    "\n",
    "    def add_mentions(text):\n",
    "\n",
    "        tags = re.findall(r'@\\w+',text)\n",
    "        tags = ','.join([e.replace('@','') for e in tags])\n",
    "\n",
    "        return tags if tags != '' else np.nan\n",
    "\n",
    "    def text_processing(text):\n",
    "\n",
    "        # Remove links\n",
    "        text = re.sub(r'http[s]?://\\S+','',text)\n",
    "        #text = re.sub(r'#\\w+','',text)\n",
    "        text = text.replace('#','')\n",
    "        text = re.sub(r'@\\w+','',text)\n",
    "        # Remove non ascii characters\n",
    "        text = re.sub(r'[^\\x00-\\x7F]+', '', text)\n",
    "        text = text.lower()\n",
    "\n",
    "        return text\n",
    "    \n",
    "    def get_places(text):\n",
    "        \n",
    "        doc = nlp(text)\n",
    "        ents = [ent.text for ent in doc.ents if ent.label_ in ['GPE']]\n",
    "        ents = ','.join(ents)\n",
    "     \n",
    "        \n",
    "        return ents if ents != '' else np.nan\n",
    "    \n",
    "    def get_events(text):\n",
    "        \n",
    "        doc = nlp(text)\n",
    "        ents = [ent.text for ent in doc.ents if ent.label_ in ['EVENT']]\n",
    "        ents = ','.join(ents)\n",
    "     \n",
    "        \n",
    "        return ents if ents != '' else np.nan\n",
    "\n",
    "    def preprocess(X):\n",
    "        \n",
    "        nlp = spacy.load('en_core_web_sm')\n",
    "        X_copy = X.copy()\n",
    "        X_copy['hashtags'] = X_copy['text'].apply(PreProcess.add_hashtags)\n",
    "        X_copy['mentions'] = X_copy['text'].apply(PreProcess.add_mentions)\n",
    "        X_copy['gist'] = X_copy['text'].apply(PreProcess.text_processing)\n",
    "        X_copy['places'] = X_copy['gist'].apply(PreProcess.get_places)\n",
    "        #X_copy['events'] = X_copy['gist'].apply(PreProcess.get_events)\n",
    "        \n",
    "        return X_copy\n",
    "    "
   ]
  },
  {
   "cell_type": "markdown",
   "id": "c735ccf3",
   "metadata": {},
   "source": [
    "### Spacy analysis"
   ]
  },
  {
   "cell_type": "code",
   "execution_count": 12,
   "id": "4fd56480",
   "metadata": {},
   "outputs": [],
   "source": [
    "import spacy\n",
    "\n",
    "nlp = spacy.load('en_core_web_md')"
   ]
  },
  {
   "cell_type": "code",
   "execution_count": 13,
   "id": "efb1e0cb",
   "metadata": {},
   "outputs": [],
   "source": [
    "train_pro = PreProcess.preprocess(train)"
   ]
  },
  {
   "cell_type": "code",
   "execution_count": 17,
   "id": "c5b0b683",
   "metadata": {},
   "outputs": [
    {
     "data": {
      "text/html": [
       "<div>\n",
       "<style scoped>\n",
       "    .dataframe tbody tr th:only-of-type {\n",
       "        vertical-align: middle;\n",
       "    }\n",
       "\n",
       "    .dataframe tbody tr th {\n",
       "        vertical-align: top;\n",
       "    }\n",
       "\n",
       "    .dataframe thead th {\n",
       "        text-align: right;\n",
       "    }\n",
       "</style>\n",
       "<table border=\"1\" class=\"dataframe\">\n",
       "  <thead>\n",
       "    <tr style=\"text-align: right;\">\n",
       "      <th></th>\n",
       "      <th>id</th>\n",
       "      <th>keyword</th>\n",
       "      <th>location</th>\n",
       "      <th>text</th>\n",
       "      <th>target</th>\n",
       "      <th>hashtags</th>\n",
       "      <th>mentions</th>\n",
       "      <th>gist</th>\n",
       "      <th>places</th>\n",
       "      <th>events</th>\n",
       "    </tr>\n",
       "  </thead>\n",
       "  <tbody>\n",
       "    <tr>\n",
       "      <th>692</th>\n",
       "      <td>997</td>\n",
       "      <td>blazing</td>\n",
       "      <td>Your screen</td>\n",
       "      <td>S3XLEAK!!!\\nPh0tos of 19yrs old Ash@wo lady in Festac town from Delta exp0sed on BBM 5 leaked pictures... http://t.co/ixREhM05yq</td>\n",
       "      <td>0</td>\n",
       "      <td>NaN</td>\n",
       "      <td>wo</td>\n",
       "      <td>s3xleak!!!\\nph0tos of 19yrs old ash lady in festac town from delta exp0sed on bbm 5 leaked pictures...</td>\n",
       "      <td>delta</td>\n",
       "      <td>bbm 5</td>\n",
       "    </tr>\n",
       "    <tr>\n",
       "      <th>3064</th>\n",
       "      <td>4396</td>\n",
       "      <td>earthquake</td>\n",
       "      <td>world</td>\n",
       "      <td>Earthquake : M 3.4 - 96km N of Brenas Puerto Rico: Time2015-08-05 10:34:24 UTC2015-08-05 06:34:24 -04:00 atÛ_ http://t.co/sDZrrfZhMy</td>\n",
       "      <td>1</td>\n",
       "      <td>NaN</td>\n",
       "      <td>NaN</td>\n",
       "      <td>earthquake : m 3.4 - 96km n of brenas puerto rico: time2015-08-05 10:34:24 utc2015-08-05 06:34:24 -04:00 at_</td>\n",
       "      <td>brenas puerto rico</td>\n",
       "      <td>utc2015-08-05</td>\n",
       "    </tr>\n",
       "    <tr>\n",
       "      <th>3308</th>\n",
       "      <td>4739</td>\n",
       "      <td>evacuate</td>\n",
       "      <td>NaN</td>\n",
       "      <td>The U.S. also flew over each bomb site in World War II with warning letters telling people to evacuate</td>\n",
       "      <td>1</td>\n",
       "      <td>NaN</td>\n",
       "      <td>NaN</td>\n",
       "      <td>the u.s. also flew over each bomb site in world war ii with warning letters telling people to evacuate</td>\n",
       "      <td>u.s.</td>\n",
       "      <td>world war ii</td>\n",
       "    </tr>\n",
       "    <tr>\n",
       "      <th>3367</th>\n",
       "      <td>4823</td>\n",
       "      <td>evacuation</td>\n",
       "      <td>NaN</td>\n",
       "      <td>VIETNAM WAR PATCH US 71st EVACUATION HOSPITAL HIGHLAND MEDICS http://t.co/kIF7M3FQLx http://t.co/Oz6vlWwTNR</td>\n",
       "      <td>1</td>\n",
       "      <td>NaN</td>\n",
       "      <td>NaN</td>\n",
       "      <td>vietnam war patch us 71st evacuation hospital highland medics</td>\n",
       "      <td>NaN</td>\n",
       "      <td>vietnam war</td>\n",
       "    </tr>\n",
       "    <tr>\n",
       "      <th>4508</th>\n",
       "      <td>6406</td>\n",
       "      <td>hurricane</td>\n",
       "      <td>??? ??? ????? ??? ???.</td>\n",
       "      <td>Be careful during hurricane season ???? https://t.co/bFtOU2nybW</td>\n",
       "      <td>1</td>\n",
       "      <td>NaN</td>\n",
       "      <td>NaN</td>\n",
       "      <td>be careful during hurricane season ????</td>\n",
       "      <td>NaN</td>\n",
       "      <td>hurricane season</td>\n",
       "    </tr>\n",
       "    <tr>\n",
       "      <th>4516</th>\n",
       "      <td>6417</td>\n",
       "      <td>hurricane</td>\n",
       "      <td>NaN</td>\n",
       "      <td>AngelRiveraLibÛ_ #Snowden 'may have' broken laws? Hurricane Katrina may have caused some damage. http://t.co/jAaWuiOvdc Without Snowden hÛ_</td>\n",
       "      <td>1</td>\n",
       "      <td>snowden</td>\n",
       "      <td>NaN</td>\n",
       "      <td>angelriveralib_ snowden 'may have' broken laws? hurricane katrina may have caused some damage.  without snowden h_</td>\n",
       "      <td>NaN</td>\n",
       "      <td>hurricane katrina</td>\n",
       "    </tr>\n",
       "    <tr>\n",
       "      <th>4525</th>\n",
       "      <td>6430</td>\n",
       "      <td>hurricane</td>\n",
       "      <td>NYC</td>\n",
       "      <td>Mr. T stopped wearing gold chains in 2005 because he thought it would be an insult to the people who lost everything after Hurricane Katrina</td>\n",
       "      <td>0</td>\n",
       "      <td>NaN</td>\n",
       "      <td>NaN</td>\n",
       "      <td>mr. t stopped wearing gold chains in 2005 because he thought it would be an insult to the people who lost everything after hurricane katrina</td>\n",
       "      <td>NaN</td>\n",
       "      <td>hurricane katrina</td>\n",
       "    </tr>\n",
       "    <tr>\n",
       "      <th>4762</th>\n",
       "      <td>6775</td>\n",
       "      <td>lightning</td>\n",
       "      <td>NaN</td>\n",
       "      <td>World War II book LIGHTNING JOE An Autobiography by General J. Lawton Collins http://t.co/BzdfznKvoG http://t.co/eRhdH37rDh</td>\n",
       "      <td>0</td>\n",
       "      <td>NaN</td>\n",
       "      <td>NaN</td>\n",
       "      <td>world war ii book lightning joe an autobiography by general j. lawton collins</td>\n",
       "      <td>NaN</td>\n",
       "      <td>world war ii</td>\n",
       "    </tr>\n",
       "    <tr>\n",
       "      <th>4770</th>\n",
       "      <td>6788</td>\n",
       "      <td>lightning</td>\n",
       "      <td>NaN</td>\n",
       "      <td>World War II book LIGHTNING JOE An Autobiography by General J. Lawton Collins http://t.co/R4khEH7iaf http://t.co/qSZgJfUutu</td>\n",
       "      <td>1</td>\n",
       "      <td>NaN</td>\n",
       "      <td>NaN</td>\n",
       "      <td>world war ii book lightning joe an autobiography by general j. lawton collins</td>\n",
       "      <td>NaN</td>\n",
       "      <td>world war ii</td>\n",
       "    </tr>\n",
       "  </tbody>\n",
       "</table>\n",
       "</div>"
      ],
      "text/plain": [
       "        id     keyword                location  \\\n",
       "692    997     blazing             Your screen   \n",
       "3064  4396  earthquake                   world   \n",
       "3308  4739    evacuate                     NaN   \n",
       "3367  4823  evacuation                     NaN   \n",
       "4508  6406   hurricane  ??? ??? ????? ??? ???.   \n",
       "4516  6417   hurricane                     NaN   \n",
       "4525  6430   hurricane                     NYC   \n",
       "4762  6775   lightning                     NaN   \n",
       "4770  6788   lightning                     NaN   \n",
       "\n",
       "                                                                                                                                               text  \\\n",
       "692                S3XLEAK!!!\\nPh0tos of 19yrs old Ash@wo lady in Festac town from Delta exp0sed on BBM 5 leaked pictures... http://t.co/ixREhM05yq   \n",
       "3064          Earthquake : M 3.4 - 96km N of Brenas Puerto Rico: Time2015-08-05 10:34:24 UTC2015-08-05 06:34:24 -04:00 atÛ_ http://t.co/sDZrrfZhMy   \n",
       "3308                                         The U.S. also flew over each bomb site in World War II with warning letters telling people to evacuate   \n",
       "3367                                    VIETNAM WAR PATCH US 71st EVACUATION HOSPITAL HIGHLAND MEDICS http://t.co/kIF7M3FQLx http://t.co/Oz6vlWwTNR   \n",
       "4508                                                                                Be careful during hurricane season ???? https://t.co/bFtOU2nybW   \n",
       "4516  AngelRiveraLibÛ_ #Snowden 'may have' broken laws? Hurricane Katrina may have caused some damage. http://t.co/jAaWuiOvdc Without Snowden hÛ_   \n",
       "4525   Mr. T stopped wearing gold chains in 2005 because he thought it would be an insult to the people who lost everything after Hurricane Katrina   \n",
       "4762                    World War II book LIGHTNING JOE An Autobiography by General J. Lawton Collins http://t.co/BzdfznKvoG http://t.co/eRhdH37rDh   \n",
       "4770                    World War II book LIGHTNING JOE An Autobiography by General J. Lawton Collins http://t.co/R4khEH7iaf http://t.co/qSZgJfUutu   \n",
       "\n",
       "      target hashtags mentions  \\\n",
       "692        0      NaN       wo   \n",
       "3064       1      NaN      NaN   \n",
       "3308       1      NaN      NaN   \n",
       "3367       1      NaN      NaN   \n",
       "4508       1      NaN      NaN   \n",
       "4516       1  snowden      NaN   \n",
       "4525       0      NaN      NaN   \n",
       "4762       0      NaN      NaN   \n",
       "4770       1      NaN      NaN   \n",
       "\n",
       "                                                                                                                                              gist  \\\n",
       "692                                        s3xleak!!!\\nph0tos of 19yrs old ash lady in festac town from delta exp0sed on bbm 5 leaked pictures...    \n",
       "3064                                 earthquake : m 3.4 - 96km n of brenas puerto rico: time2015-08-05 10:34:24 utc2015-08-05 06:34:24 -04:00 at_    \n",
       "3308                                        the u.s. also flew over each bomb site in world war ii with warning letters telling people to evacuate   \n",
       "3367                                                                               vietnam war patch us 71st evacuation hospital highland medics     \n",
       "4508                                                                                                      be careful during hurricane season ????    \n",
       "4516                            angelriveralib_ snowden 'may have' broken laws? hurricane katrina may have caused some damage.  without snowden h_   \n",
       "4525  mr. t stopped wearing gold chains in 2005 because he thought it would be an insult to the people who lost everything after hurricane katrina   \n",
       "4762                                                               world war ii book lightning joe an autobiography by general j. lawton collins     \n",
       "4770                                                               world war ii book lightning joe an autobiography by general j. lawton collins     \n",
       "\n",
       "                  places             events  \n",
       "692                delta              bbm 5  \n",
       "3064  brenas puerto rico      utc2015-08-05  \n",
       "3308                u.s.       world war ii  \n",
       "3367                 NaN        vietnam war  \n",
       "4508                 NaN   hurricane season  \n",
       "4516                 NaN  hurricane katrina  \n",
       "4525                 NaN  hurricane katrina  \n",
       "4762                 NaN       world war ii  \n",
       "4770                 NaN       world war ii  "
      ]
     },
     "execution_count": 17,
     "metadata": {},
     "output_type": "execute_result"
    }
   ],
   "source": [
    "train_pro[~train_pro.events.isna()]"
   ]
  },
  {
   "cell_type": "code",
   "execution_count": 15,
   "id": "032c98d7",
   "metadata": {},
   "outputs": [
    {
     "ename": "TypeError",
     "evalue": "sequence item 0: expected str instance, spacy.tokens.span.Span found",
     "output_type": "error",
     "traceback": [
      "\u001b[0;31m---------------------------------------------------------------------------\u001b[0m",
      "\u001b[0;31mTypeError\u001b[0m                                 Traceback (most recent call last)",
      "Cell \u001b[0;32mIn[15], line 4\u001b[0m\n\u001b[1;32m      2\u001b[0m doc \u001b[38;5;241m=\u001b[39m nlp(text)\n\u001b[1;32m      3\u001b[0m ls \u001b[38;5;241m=\u001b[39m \u001b[38;5;28mlist\u001b[39m(doc\u001b[38;5;241m.\u001b[39ments)\n\u001b[0;32m----> 4\u001b[0m string \u001b[38;5;241m=\u001b[39m \u001b[38;5;124;43m'\u001b[39;49m\u001b[38;5;124;43m'\u001b[39;49m\u001b[38;5;241;43m.\u001b[39;49m\u001b[43mjoin\u001b[49m\u001b[43m(\u001b[49m\u001b[43mls\u001b[49m\u001b[43m)\u001b[49m\n",
      "\u001b[0;31mTypeError\u001b[0m: sequence item 0: expected str instance, spacy.tokens.span.Span found"
     ]
    }
   ],
   "source": [
    "text = 'Our deeds are the reason for this earthquaqe near Apple and Google office'\n",
    "doc = nlp(text)\n",
    "ls = list(doc.ents)\n",
    "string = ''.join(ls)"
   ]
  },
  {
   "cell_type": "code",
   "execution_count": null,
   "id": "52617c1e",
   "metadata": {},
   "outputs": [],
   "source": [
    "doc = nlp(text)"
   ]
  },
  {
   "cell_type": "code",
   "execution_count": null,
   "id": "fc5d994b",
   "metadata": {},
   "outputs": [],
   "source": [
    "doc.ents"
   ]
  },
  {
   "cell_type": "code",
   "execution_count": null,
   "id": "7a6d8d2b",
   "metadata": {},
   "outputs": [],
   "source": [
    "ls = [ent.text for ent in doc.ents]"
   ]
  },
  {
   "cell_type": "code",
   "execution_count": null,
   "id": "be66036a",
   "metadata": {},
   "outputs": [],
   "source": [
    "','.join(ls)"
   ]
  }
 ],
 "metadata": {
  "kernelspec": {
   "display_name": "nlp-disaster-tweets",
   "language": "python",
   "name": "nlp-disaster-tweets"
  },
  "language_info": {
   "codemirror_mode": {
    "name": "ipython",
    "version": 3
   },
   "file_extension": ".py",
   "mimetype": "text/x-python",
   "name": "python",
   "nbconvert_exporter": "python",
   "pygments_lexer": "ipython3",
   "version": "3.9.7"
  }
 },
 "nbformat": 4,
 "nbformat_minor": 5
}
