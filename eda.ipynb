{
 "cells": [
  {
   "cell_type": "code",
   "execution_count": 1,
   "id": "e4b8afa5",
   "metadata": {},
   "outputs": [],
   "source": [
    "import pandas as pd\n",
    "import numpy as np\n",
    "import re\n",
    "\n",
    "pd.set_option('display.max_colwidth', None)"
   ]
  },
  {
   "cell_type": "code",
   "execution_count": 2,
   "id": "e54d66d2",
   "metadata": {},
   "outputs": [
    {
     "name": "stdout",
     "output_type": "stream",
     "text": [
      "Index(['id', 'keyword', 'location', 'text', 'target'], dtype='object')\n"
     ]
    }
   ],
   "source": [
    "train = pd.read_csv(\"./data/train.csv\", encoding = 'utf-8')\n",
    "test = pd.read_csv(\"./data/test.csv\", encoding = 'utf-8')\n",
    "print(train.columns)"
   ]
  },
  {
   "cell_type": "code",
   "execution_count": 3,
   "id": "43a454c4",
   "metadata": {},
   "outputs": [
    {
     "data": {
      "text/plain": [
       "0                                                                    Our Deeds are the Reason of this #earthquake May ALLAH Forgive us all\n",
       "1                                                                                                   Forest fire near La Ronge Sask. Canada\n",
       "2    All residents asked to 'shelter in place' are being notified by officers. No other evacuation or shelter in place orders are expected\n",
       "3                                                                        13,000 people receive #wildfires evacuation orders in California \n",
       "4                                                 Just got sent this photo from Ruby #Alaska as smoke from #wildfires pours into a school \n",
       "Name: text, dtype: object"
      ]
     },
     "execution_count": 3,
     "metadata": {},
     "output_type": "execute_result"
    }
   ],
   "source": [
    "train.text.head()"
   ]
  },
  {
   "cell_type": "code",
   "execution_count": 4,
   "id": "b1c35961",
   "metadata": {},
   "outputs": [
    {
     "data": {
      "text/plain": [
       "target\n",
       "0    0.57034\n",
       "1    0.42966\n",
       "Name: proportion, dtype: float64"
      ]
     },
     "execution_count": 4,
     "metadata": {},
     "output_type": "execute_result"
    }
   ],
   "source": [
    "# Check target balance\n",
    "train.target.value_counts(normalize=True)"
   ]
  },
  {
   "cell_type": "code",
   "execution_count": 5,
   "id": "dd8170d7",
   "metadata": {},
   "outputs": [
    {
     "data": {
      "text/plain": [
       "target\n",
       "False    1.0\n",
       "Name: proportion, dtype: float64"
      ]
     },
     "execution_count": 5,
     "metadata": {},
     "output_type": "execute_result"
    }
   ],
   "source": [
    "# Check target null proportion\n",
    "train.target.isna().value_counts(normalize=True)"
   ]
  },
  {
   "cell_type": "code",
   "execution_count": 6,
   "id": "3c707024",
   "metadata": {},
   "outputs": [
    {
     "name": "stdout",
     "output_type": "stream",
     "text": [
      "keyword\n",
      "False    0.991987\n",
      "True     0.008013\n",
      "Name: proportion, dtype: float64\n",
      "location\n",
      "False    0.66728\n",
      "True     0.33272\n",
      "Name: proportion, dtype: float64\n"
     ]
    }
   ],
   "source": [
    "# Check null proportion of keyword and location\n",
    "print(train.keyword.isna().value_counts(normalize=True))\n",
    "print(train.location.isna().value_counts(normalize=True))"
   ]
  },
  {
   "cell_type": "code",
   "execution_count": 7,
   "id": "97623390",
   "metadata": {},
   "outputs": [
    {
     "data": {
      "text/plain": [
       "keyword\n",
       "fatalities               0.005959\n",
       "deluge                   0.005561\n",
       "armageddon               0.005561\n",
       "damage                   0.005429\n",
       "body%20bags              0.005429\n",
       "                           ...   \n",
       "forest%20fire            0.002516\n",
       "epicentre                0.001589\n",
       "threat                   0.001457\n",
       "inundation               0.001324\n",
       "radiation%20emergency    0.001192\n",
       "Name: proportion, Length: 221, dtype: float64"
      ]
     },
     "execution_count": 7,
     "metadata": {},
     "output_type": "execute_result"
    }
   ],
   "source": [
    "# Proportion of non-null keywords\n",
    "train[~train.keyword.isna()].keyword.value_counts(normalize=True)"
   ]
  },
  {
   "cell_type": "code",
   "execution_count": 8,
   "id": "4d872f16",
   "metadata": {},
   "outputs": [
    {
     "data": {
      "text/plain": [
       "location\n",
       "USA                            0.020472\n",
       "New York                       0.013976\n",
       "United States                  0.009843\n",
       "London                         0.008858\n",
       "Canada                         0.005709\n",
       "                                 ...   \n",
       "Click the link below, okay     0.000197\n",
       "Milwaukee County               0.000197\n",
       "Gwersyllt, Wales               0.000197\n",
       "Primum non nocere              0.000197\n",
       "Alabama, USA                   0.000197\n",
       "Name: proportion, Length: 3341, dtype: float64"
      ]
     },
     "execution_count": 8,
     "metadata": {},
     "output_type": "execute_result"
    }
   ],
   "source": [
    "# Proportion of non-null locations\n",
    "train[~train.location.isna()].location.value_counts(normalize=True)"
   ]
  },
  {
   "cell_type": "markdown",
   "id": "ad5ea0f4",
   "metadata": {},
   "source": [
    "### Stratified k-fold cross validation split\n"
   ]
  },
  {
   "cell_type": "code",
   "execution_count": 9,
   "id": "0d4a825f",
   "metadata": {},
   "outputs": [],
   "source": [
    "from sklearn.model_selection import StratifiedKFold"
   ]
  },
  {
   "cell_type": "code",
   "execution_count": 10,
   "id": "d0e63fa5",
   "metadata": {},
   "outputs": [],
   "source": [
    "skf = StratifiedKFold(n_splits=10,shuffle=True,random_state = 56)\n",
    "X = train[['keyword','location','text']]\n",
    "y = train[['target']]"
   ]
  },
  {
   "cell_type": "code",
   "execution_count": 11,
   "id": "98639549",
   "metadata": {},
   "outputs": [],
   "source": [
    "# Create a generator from the above giving the actual dataset\n",
    "def data_gen(X,y):\n",
    "    # Creates a generator giving indices for each split\n",
    "    for index_arr in skf.split(X,y):\n",
    "        # Yields corresponding X_train, X_test, y_train, y_test\n",
    "        yield X.loc[index_arr[0]],X.loc[index_arr[1]], y.loc[index_arr[0]],y.loc[index_arr[1]]\n",
    "\n",
    "data = data_gen(X,y)"
   ]
  },
  {
   "cell_type": "markdown",
   "id": "eaacfada",
   "metadata": {},
   "source": [
    "### Feature Addition and Engineering"
   ]
  },
  {
   "cell_type": "markdown",
   "id": "64f76d29",
   "metadata": {},
   "source": [
    "* create another feature that extracts #words from text \n",
    "* create another feature that extracts @mention from text\n",
    "* remove links from text\n",
    "* remove @mention from text\n",
    "* remove # symbol from text"
   ]
  },
  {
   "cell_type": "code",
   "execution_count": 17,
   "id": "c621a0ea",
   "metadata": {},
   "outputs": [],
   "source": [
    "def add_hashtags(text):\n",
    "    \n",
    "    tags = re.findall(r'#\\w+',text)\n",
    "    tags = ','.join([e.replace('#','') for e in tags])\n",
    "    tags = tags.lower()\n",
    "    \n",
    "    return tags if tags != '' else np.nan\n",
    "\n",
    "def add_mentions(text):\n",
    "    \n",
    "    tags = re.findall(r'@\\w+',text)\n",
    "    tags = ','.join([e.replace('@','') for e in tags])\n",
    "    \n",
    "    return tags if tags != '' else np.nan\n",
    "\n",
    "def text_processing(text):\n",
    "    \n",
    "    # Remove links\n",
    "    text = re.sub(r'http[s]?://\\S+','',text)\n",
    "    text = re.sub(r'#\\w+','',text)\n",
    "    text = re.sub(r'@\\w+','',text)\n",
    "    text = text.lower()\n",
    "    \n",
    "    \n",
    "    return text\n",
    "    \n",
    "    "
   ]
  },
  {
   "cell_type": "code",
   "execution_count": 18,
   "id": "71e65faa",
   "metadata": {},
   "outputs": [],
   "source": [
    "# extract hashtag words without hashtag\n",
    "train['hashtags'] = train['text'].apply(add_hashtags)\n",
    "# extract mention words\n",
    "train['mentions'] = train['text'].apply(add_mentions)\n",
    "# remove \n",
    "train['gist'] = train['text'].apply(text_processing)"
   ]
  },
  {
   "cell_type": "code",
   "execution_count": 19,
   "id": "79f12d37",
   "metadata": {},
   "outputs": [
    {
     "data": {
      "text/html": [
       "<div>\n",
       "<style scoped>\n",
       "    .dataframe tbody tr th:only-of-type {\n",
       "        vertical-align: middle;\n",
       "    }\n",
       "\n",
       "    .dataframe tbody tr th {\n",
       "        vertical-align: top;\n",
       "    }\n",
       "\n",
       "    .dataframe thead th {\n",
       "        text-align: right;\n",
       "    }\n",
       "</style>\n",
       "<table border=\"1\" class=\"dataframe\">\n",
       "  <thead>\n",
       "    <tr style=\"text-align: right;\">\n",
       "      <th></th>\n",
       "      <th>id</th>\n",
       "      <th>keyword</th>\n",
       "      <th>location</th>\n",
       "      <th>text</th>\n",
       "      <th>target</th>\n",
       "      <th>hashtags</th>\n",
       "      <th>mentions</th>\n",
       "      <th>gist</th>\n",
       "    </tr>\n",
       "  </thead>\n",
       "  <tbody>\n",
       "    <tr>\n",
       "      <th>31</th>\n",
       "      <td>48</td>\n",
       "      <td>ablaze</td>\n",
       "      <td>Birmingham</td>\n",
       "      <td>@bbcmtd Wholesale Markets ablaze http://t.co/lHYXEOHY6C</td>\n",
       "      <td>1</td>\n",
       "      <td>NaN</td>\n",
       "      <td>bbcmtd</td>\n",
       "      <td>wholesale markets ablaze</td>\n",
       "    </tr>\n",
       "    <tr>\n",
       "      <th>32</th>\n",
       "      <td>49</td>\n",
       "      <td>ablaze</td>\n",
       "      <td>Est. September 2012 - Bristol</td>\n",
       "      <td>We always try to bring the heavy. #metal #RT http://t.co/YAo1e0xngw</td>\n",
       "      <td>0</td>\n",
       "      <td>metal,rt</td>\n",
       "      <td>NaN</td>\n",
       "      <td>we always try to bring the heavy.</td>\n",
       "    </tr>\n",
       "    <tr>\n",
       "      <th>33</th>\n",
       "      <td>50</td>\n",
       "      <td>ablaze</td>\n",
       "      <td>AFRICA</td>\n",
       "      <td>#AFRICANBAZE: Breaking news:Nigeria flag set ablaze in Aba. http://t.co/2nndBGwyEi</td>\n",
       "      <td>1</td>\n",
       "      <td>africanbaze</td>\n",
       "      <td>NaN</td>\n",
       "      <td>: breaking news:nigeria flag set ablaze in aba.</td>\n",
       "    </tr>\n",
       "    <tr>\n",
       "      <th>34</th>\n",
       "      <td>52</td>\n",
       "      <td>ablaze</td>\n",
       "      <td>Philadelphia, PA</td>\n",
       "      <td>Crying out for more! Set me ablaze</td>\n",
       "      <td>0</td>\n",
       "      <td>NaN</td>\n",
       "      <td>NaN</td>\n",
       "      <td>crying out for more! set me ablaze</td>\n",
       "    </tr>\n",
       "    <tr>\n",
       "      <th>35</th>\n",
       "      <td>53</td>\n",
       "      <td>ablaze</td>\n",
       "      <td>London, UK</td>\n",
       "      <td>On plus side LOOK AT THE SKY LAST NIGHT IT WAS ABLAZE http://t.co/qqsmshaJ3N</td>\n",
       "      <td>0</td>\n",
       "      <td>NaN</td>\n",
       "      <td>NaN</td>\n",
       "      <td>on plus side look at the sky last night it was ablaze</td>\n",
       "    </tr>\n",
       "    <tr>\n",
       "      <th>...</th>\n",
       "      <td>...</td>\n",
       "      <td>...</td>\n",
       "      <td>...</td>\n",
       "      <td>...</td>\n",
       "      <td>...</td>\n",
       "      <td>...</td>\n",
       "      <td>...</td>\n",
       "      <td>...</td>\n",
       "    </tr>\n",
       "    <tr>\n",
       "      <th>7575</th>\n",
       "      <td>10826</td>\n",
       "      <td>wrecked</td>\n",
       "      <td>TN</td>\n",
       "      <td>On the bright side I wrecked http://t.co/uEa0txRHYs</td>\n",
       "      <td>0</td>\n",
       "      <td>NaN</td>\n",
       "      <td>NaN</td>\n",
       "      <td>on the bright side i wrecked</td>\n",
       "    </tr>\n",
       "    <tr>\n",
       "      <th>7577</th>\n",
       "      <td>10829</td>\n",
       "      <td>wrecked</td>\n",
       "      <td>#NewcastleuponTyne #UK</td>\n",
       "      <td>@widda16 ... He's gone. You can relax. I thought the wife who wrecked her cake was a goner mind lol #whoops</td>\n",
       "      <td>0</td>\n",
       "      <td>whoops</td>\n",
       "      <td>widda16</td>\n",
       "      <td>... he's gone. you can relax. i thought the wife who wrecked her cake was a goner mind lol</td>\n",
       "    </tr>\n",
       "    <tr>\n",
       "      <th>7579</th>\n",
       "      <td>10831</td>\n",
       "      <td>wrecked</td>\n",
       "      <td>Vancouver, Canada</td>\n",
       "      <td>Three days off from work and they've pretty much all been wrecked hahaha shoutout to my family for that one</td>\n",
       "      <td>0</td>\n",
       "      <td>NaN</td>\n",
       "      <td>NaN</td>\n",
       "      <td>three days off from work and they've pretty much all been wrecked hahaha shoutout to my family for that one</td>\n",
       "    </tr>\n",
       "    <tr>\n",
       "      <th>7580</th>\n",
       "      <td>10832</td>\n",
       "      <td>wrecked</td>\n",
       "      <td>London</td>\n",
       "      <td>#FX #forex #trading Cramer: Iger's 3 words that wrecked Disney's stock http://t.co/7enNulLKzM</td>\n",
       "      <td>0</td>\n",
       "      <td>fx,forex,trading</td>\n",
       "      <td>NaN</td>\n",
       "      <td>cramer: iger's 3 words that wrecked disney's stock</td>\n",
       "    </tr>\n",
       "    <tr>\n",
       "      <th>7581</th>\n",
       "      <td>10833</td>\n",
       "      <td>wrecked</td>\n",
       "      <td>Lincoln</td>\n",
       "      <td>@engineshed Great atmosphere at the British Lion gig tonight. Hearing is wrecked. http://t.co/oMNBAtJEAO</td>\n",
       "      <td>0</td>\n",
       "      <td>NaN</td>\n",
       "      <td>engineshed</td>\n",
       "      <td>great atmosphere at the british lion gig tonight. hearing is wrecked.</td>\n",
       "    </tr>\n",
       "  </tbody>\n",
       "</table>\n",
       "<p>5080 rows × 8 columns</p>\n",
       "</div>"
      ],
      "text/plain": [
       "         id  keyword                       location  \\\n",
       "31       48   ablaze                     Birmingham   \n",
       "32       49   ablaze  Est. September 2012 - Bristol   \n",
       "33       50   ablaze                         AFRICA   \n",
       "34       52   ablaze               Philadelphia, PA   \n",
       "35       53   ablaze                     London, UK   \n",
       "...     ...      ...                            ...   \n",
       "7575  10826  wrecked                             TN   \n",
       "7577  10829  wrecked         #NewcastleuponTyne #UK   \n",
       "7579  10831  wrecked              Vancouver, Canada   \n",
       "7580  10832  wrecked                        London    \n",
       "7581  10833  wrecked                        Lincoln   \n",
       "\n",
       "                                                                                                             text  \\\n",
       "31                                                        @bbcmtd Wholesale Markets ablaze http://t.co/lHYXEOHY6C   \n",
       "32                                            We always try to bring the heavy. #metal #RT http://t.co/YAo1e0xngw   \n",
       "33                             #AFRICANBAZE: Breaking news:Nigeria flag set ablaze in Aba. http://t.co/2nndBGwyEi   \n",
       "34                                                                             Crying out for more! Set me ablaze   \n",
       "35                                   On plus side LOOK AT THE SKY LAST NIGHT IT WAS ABLAZE http://t.co/qqsmshaJ3N   \n",
       "...                                                                                                           ...   \n",
       "7575                                                          On the bright side I wrecked http://t.co/uEa0txRHYs   \n",
       "7577  @widda16 ... He's gone. You can relax. I thought the wife who wrecked her cake was a goner mind lol #whoops   \n",
       "7579  Three days off from work and they've pretty much all been wrecked hahaha shoutout to my family for that one   \n",
       "7580                #FX #forex #trading Cramer: Iger's 3 words that wrecked Disney's stock http://t.co/7enNulLKzM   \n",
       "7581     @engineshed Great atmosphere at the British Lion gig tonight. Hearing is wrecked. http://t.co/oMNBAtJEAO   \n",
       "\n",
       "      target          hashtags    mentions  \\\n",
       "31         1               NaN      bbcmtd   \n",
       "32         0          metal,rt         NaN   \n",
       "33         1       africanbaze         NaN   \n",
       "34         0               NaN         NaN   \n",
       "35         0               NaN         NaN   \n",
       "...      ...               ...         ...   \n",
       "7575       0               NaN         NaN   \n",
       "7577       0            whoops     widda16   \n",
       "7579       0               NaN         NaN   \n",
       "7580       0  fx,forex,trading         NaN   \n",
       "7581       0               NaN  engineshed   \n",
       "\n",
       "                                                                                                             gist  \n",
       "31                                                                                      wholesale markets ablaze   \n",
       "32                                                                           we always try to bring the heavy.     \n",
       "33                                                               : breaking news:nigeria flag set ablaze in aba.   \n",
       "34                                                                             crying out for more! set me ablaze  \n",
       "35                                                         on plus side look at the sky last night it was ablaze   \n",
       "...                                                                                                           ...  \n",
       "7575                                                                                on the bright side i wrecked   \n",
       "7577                  ... he's gone. you can relax. i thought the wife who wrecked her cake was a goner mind lol   \n",
       "7579  three days off from work and they've pretty much all been wrecked hahaha shoutout to my family for that one  \n",
       "7580                                                          cramer: iger's 3 words that wrecked disney's stock   \n",
       "7581                                       great atmosphere at the british lion gig tonight. hearing is wrecked.   \n",
       "\n",
       "[5080 rows x 8 columns]"
      ]
     },
     "execution_count": 19,
     "metadata": {},
     "output_type": "execute_result"
    }
   ],
   "source": [
    "train[~train.location.isna()]"
   ]
  },
  {
   "cell_type": "code",
   "execution_count": 15,
   "id": "115a4d94",
   "metadata": {},
   "outputs": [
    {
     "data": {
      "text/plain": [
       "172    Mourning notices for stabbing arson victims stir Û÷politics of griefÛª in Israel: Posters for Shira Banki and A... http://t.co/WbCtkGGTY9\n",
       "Name: text, dtype: object"
      ]
     },
     "execution_count": 15,
     "metadata": {},
     "output_type": "execute_result"
    }
   ],
   "source": [
    "test[test.id == 557].text"
   ]
  },
  {
   "cell_type": "code",
   "execution_count": 16,
   "id": "2979efc5",
   "metadata": {},
   "outputs": [
    {
     "data": {
      "text/plain": [
       "True"
      ]
     },
     "execution_count": 16,
     "metadata": {},
     "output_type": "execute_result"
    }
   ],
   "source": [
    "'.'.join([]) == ''"
   ]
  },
  {
   "cell_type": "markdown",
   "id": "fb9ce199",
   "metadata": {},
   "source": [
    "Mourning notices for stabbing arson victims stir ¬â√õ√∑politics of grief¬â√õ¬™ in Israel: Posters for Shira Banki and A... http://t.co/WbCtkGGTY9"
   ]
  }
 ],
 "metadata": {
  "kernelspec": {
   "display_name": "nlp-disaster-tweets",
   "language": "python",
   "name": "nlp-disaster-tweets"
  },
  "language_info": {
   "codemirror_mode": {
    "name": "ipython",
    "version": 3
   },
   "file_extension": ".py",
   "mimetype": "text/x-python",
   "name": "python",
   "nbconvert_exporter": "python",
   "pygments_lexer": "ipython3",
   "version": "3.9.7"
  }
 },
 "nbformat": 4,
 "nbformat_minor": 5
}
