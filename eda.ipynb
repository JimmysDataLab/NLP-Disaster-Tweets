{
 "cells": [
  {
   "cell_type": "code",
   "execution_count": 1,
   "id": "e4b8afa5",
   "metadata": {},
   "outputs": [],
   "source": [
    "import pandas as pd\n",
    "import numpy as np\n",
    "import re\n",
    "\n",
    "pd.set_option('display.max_colwidth', None)"
   ]
  },
  {
   "cell_type": "code",
   "execution_count": 2,
   "id": "e54d66d2",
   "metadata": {},
   "outputs": [
    {
     "name": "stdout",
     "output_type": "stream",
     "text": [
      "Index(['id', 'keyword', 'location', 'text'], dtype='object')\n"
     ]
    }
   ],
   "source": [
    "train = pd.read_csv(\"./data/train.csv\", encoding = 'utf-8')\n",
    "test = pd.read_csv(\"./data/test.csv\", encoding = 'utf-8')\n",
    "print(test.columns)"
   ]
  },
  {
   "cell_type": "code",
   "execution_count": 3,
   "id": "b1c35961",
   "metadata": {},
   "outputs": [
    {
     "data": {
      "text/plain": [
       "target\n",
       "0    0.57034\n",
       "1    0.42966\n",
       "Name: proportion, dtype: float64"
      ]
     },
     "execution_count": 3,
     "metadata": {},
     "output_type": "execute_result"
    }
   ],
   "source": [
    "# Check target balance\n",
    "train.target.value_counts(normalize=True)"
   ]
  },
  {
   "cell_type": "code",
   "execution_count": 4,
   "id": "dd8170d7",
   "metadata": {},
   "outputs": [
    {
     "data": {
      "text/plain": [
       "target\n",
       "False    1.0\n",
       "Name: proportion, dtype: float64"
      ]
     },
     "execution_count": 4,
     "metadata": {},
     "output_type": "execute_result"
    }
   ],
   "source": [
    "# Check target null proportion\n",
    "train.target.isna().value_counts(normalize=True)"
   ]
  },
  {
   "cell_type": "code",
   "execution_count": 5,
   "id": "3c707024",
   "metadata": {},
   "outputs": [
    {
     "name": "stdout",
     "output_type": "stream",
     "text": [
      "keyword\n",
      "False    0.991987\n",
      "True     0.008013\n",
      "Name: proportion, dtype: float64\n",
      "location\n",
      "False    0.66728\n",
      "True     0.33272\n",
      "Name: proportion, dtype: float64\n"
     ]
    }
   ],
   "source": [
    "# Check null proportion of keyword and location\n",
    "print(train.keyword.isna().value_counts(normalize=True))\n",
    "print(train.location.isna().value_counts(normalize=True))"
   ]
  },
  {
   "cell_type": "code",
   "execution_count": 6,
   "id": "97623390",
   "metadata": {},
   "outputs": [
    {
     "data": {
      "text/plain": [
       "keyword\n",
       "fatalities               0.005959\n",
       "deluge                   0.005561\n",
       "armageddon               0.005561\n",
       "sinking                  0.005429\n",
       "damage                   0.005429\n",
       "                           ...   \n",
       "forest%20fire            0.002516\n",
       "epicentre                0.001589\n",
       "threat                   0.001457\n",
       "inundation               0.001324\n",
       "radiation%20emergency    0.001192\n",
       "Name: proportion, Length: 221, dtype: float64"
      ]
     },
     "execution_count": 6,
     "metadata": {},
     "output_type": "execute_result"
    }
   ],
   "source": [
    "# Proportion of non-null keywords\n",
    "train[~train.keyword.isna()].keyword.value_counts(normalize=True)"
   ]
  },
  {
   "cell_type": "code",
   "execution_count": 7,
   "id": "4d872f16",
   "metadata": {},
   "outputs": [
    {
     "data": {
      "text/plain": [
       "location\n",
       "USA                    0.020472\n",
       "New York               0.013976\n",
       "United States          0.009843\n",
       "London                 0.008858\n",
       "Canada                 0.005709\n",
       "                         ...   \n",
       "MontrÌ©al, QuÌ©bec     0.000197\n",
       "Montreal               0.000197\n",
       "ÌÏT: 6.4682,3.18287    0.000197\n",
       "Live4Heed??            0.000197\n",
       "Lincoln                0.000197\n",
       "Name: proportion, Length: 3341, dtype: float64"
      ]
     },
     "execution_count": 7,
     "metadata": {},
     "output_type": "execute_result"
    }
   ],
   "source": [
    "# Proportion of non-null locations\n",
    "train[~train.location.isna()].location.value_counts(normalize=True)"
   ]
  },
  {
   "cell_type": "markdown",
   "id": "ad5ea0f4",
   "metadata": {},
   "source": [
    "### Stratified k-fold cross validation split\n"
   ]
  },
  {
   "cell_type": "code",
   "execution_count": 8,
   "id": "0d4a825f",
   "metadata": {},
   "outputs": [],
   "source": [
    "from sklearn.model_selection import StratifiedKFold"
   ]
  },
  {
   "cell_type": "code",
   "execution_count": 9,
   "id": "d0e63fa5",
   "metadata": {},
   "outputs": [],
   "source": [
    "skf = StratifiedKFold(n_splits=10,shuffle=True,random_state = 56)\n",
    "X = train[['id','keyword','location','text']]\n",
    "y = train[['target']]"
   ]
  },
  {
   "cell_type": "code",
   "execution_count": 10,
   "id": "98639549",
   "metadata": {},
   "outputs": [],
   "source": [
    "# Create a generator from the above giving the actual dataset\n",
    "def data_gen(X,y):\n",
    "    # Creates a generator giving indices for each split\n",
    "    for index_arr in skf.split(X,y):\n",
    "        # Yields corresponding X_train, X_test, y_train, y_test\n",
    "        yield X.loc[index_arr[0]],X.loc[index_arr[1]], y.loc[index_arr[0]],y.loc[index_arr[1]]\n",
    "\n",
    "data = data_gen(X,y)"
   ]
  },
  {
   "cell_type": "markdown",
   "id": "eaacfada",
   "metadata": {},
   "source": [
    "### Feature Addition and Engineering"
   ]
  },
  {
   "cell_type": "markdown",
   "id": "64f76d29",
   "metadata": {},
   "source": [
    "* create another feature that extracts #words from text \n",
    "* create another feature that extracts @mention from text\n",
    "* remove links from text\n",
    "* remove @mention from text\n",
    "* remove # symbol from text"
   ]
  },
  {
   "cell_type": "code",
   "execution_count": 11,
   "id": "11d82e90",
   "metadata": {},
   "outputs": [],
   "source": [
    "class PreProcess():\n",
    "    \n",
    "    \n",
    "    def add_hashtags(text):\n",
    "\n",
    "        tags = re.findall(r'#\\w+',text)\n",
    "        tags = ','.join([e.replace('#','') for e in tags])\n",
    "        tags = tags.lower()\n",
    "\n",
    "        return tags if tags != '' else np.nan\n",
    "\n",
    "    def add_mentions(text):\n",
    "\n",
    "        tags = re.findall(r'@\\w+',text)\n",
    "        tags = ','.join([e.replace('@','') for e in tags])\n",
    "\n",
    "        return tags if tags != '' else np.nan\n",
    "\n",
    "    def text_processing(text):\n",
    "\n",
    "        # Remove links\n",
    "        text = re.sub(r'http[s]?://\\S+','',text)\n",
    "        #text = re.sub(r'#\\w+','',text)\n",
    "        text = text.replace('#','')\n",
    "        text = re.sub(r'@\\w+','',text)\n",
    "        # Remove non ascii characters\n",
    "        text = re.sub(r'[^\\x00-\\x7F]+', '', text)\n",
    "        text = text.lower()\n",
    "\n",
    "        return text\n",
    "    \n",
    "    def get_places(text):\n",
    "        \n",
    "        doc = nlp(text)\n",
    "        ents = [ent.text for ent in doc.ents if ent.label_ in ['GPE']]\n",
    "        ents = ','.join(ents)\n",
    "     \n",
    "        \n",
    "        return ents if ents != '' else np.nan\n",
    "    \n",
    "    def get_events(text):\n",
    "        \n",
    "        doc = nlp(text)\n",
    "        ents = [ent.text for ent in doc.ents if ent.label_ in ['EVENT']]\n",
    "        ents = ','.join(ents)\n",
    "     \n",
    "        \n",
    "        return ents if ents != '' else np.nan\n",
    "\n",
    "    def preprocess(X):\n",
    "        \n",
    "        nlp = spacy.load('en_core_web_sm')\n",
    "        X_copy = X.copy()\n",
    "        X_copy['hashtags'] = X_copy['text'].apply(PreProcess.add_hashtags)\n",
    "        X_copy['mentions'] = X_copy['text'].apply(PreProcess.add_mentions)\n",
    "        X_copy['gist'] = X_copy['text'].apply(PreProcess.text_processing)\n",
    "        X_copy['places'] = X_copy['gist'].apply(PreProcess.get_places)\n",
    "        #X_copy['events'] = X_copy['gist'].apply(PreProcess.get_events)\n",
    "        \n",
    "        return X_copy\n",
    "    "
   ]
  },
  {
   "cell_type": "markdown",
   "id": "bafe6427",
   "metadata": {},
   "source": [
    "### Spacy analysis\n",
    "\n",
    "* Train spacy ner to classify disasters as a new rule"
   ]
  },
  {
   "cell_type": "code",
   "execution_count": 12,
   "id": "48b9a3fa",
   "metadata": {},
   "outputs": [],
   "source": [
    "import spacy\n",
    "\n",
    "nlp = spacy.load('en_core_web_md')"
   ]
  },
  {
   "cell_type": "code",
   "execution_count": 13,
   "id": "0b0c4210",
   "metadata": {},
   "outputs": [],
   "source": [
    "train_pro = PreProcess.preprocess(train)"
   ]
  },
  {
   "cell_type": "code",
   "execution_count": 14,
   "id": "886d6342",
   "metadata": {},
   "outputs": [
    {
     "data": {
      "text/html": [
       "<div>\n",
       "<style scoped>\n",
       "    .dataframe tbody tr th:only-of-type {\n",
       "        vertical-align: middle;\n",
       "    }\n",
       "\n",
       "    .dataframe tbody tr th {\n",
       "        vertical-align: top;\n",
       "    }\n",
       "\n",
       "    .dataframe thead th {\n",
       "        text-align: right;\n",
       "    }\n",
       "</style>\n",
       "<table border=\"1\" class=\"dataframe\">\n",
       "  <thead>\n",
       "    <tr style=\"text-align: right;\">\n",
       "      <th></th>\n",
       "      <th>id</th>\n",
       "      <th>keyword</th>\n",
       "      <th>location</th>\n",
       "      <th>text</th>\n",
       "      <th>target</th>\n",
       "      <th>hashtags</th>\n",
       "      <th>mentions</th>\n",
       "      <th>gist</th>\n",
       "      <th>places</th>\n",
       "    </tr>\n",
       "  </thead>\n",
       "  <tbody>\n",
       "    <tr>\n",
       "      <th>0</th>\n",
       "      <td>1</td>\n",
       "      <td>NaN</td>\n",
       "      <td>NaN</td>\n",
       "      <td>Our Deeds are the Reason of this #earthquake May ALLAH Forgive us all</td>\n",
       "      <td>1</td>\n",
       "      <td>earthquake</td>\n",
       "      <td>NaN</td>\n",
       "      <td>our deeds are the reason of this earthquake may allah forgive us all</td>\n",
       "      <td>NaN</td>\n",
       "    </tr>\n",
       "    <tr>\n",
       "      <th>1</th>\n",
       "      <td>4</td>\n",
       "      <td>NaN</td>\n",
       "      <td>NaN</td>\n",
       "      <td>Forest fire near La Ronge Sask. Canada</td>\n",
       "      <td>1</td>\n",
       "      <td>NaN</td>\n",
       "      <td>NaN</td>\n",
       "      <td>forest fire near la ronge sask. canada</td>\n",
       "      <td>canada</td>\n",
       "    </tr>\n",
       "    <tr>\n",
       "      <th>2</th>\n",
       "      <td>5</td>\n",
       "      <td>NaN</td>\n",
       "      <td>NaN</td>\n",
       "      <td>All residents asked to 'shelter in place' are being notified by officers. No other evacuation or shelter in place orders are expected</td>\n",
       "      <td>1</td>\n",
       "      <td>NaN</td>\n",
       "      <td>NaN</td>\n",
       "      <td>all residents asked to 'shelter in place' are being notified by officers. no other evacuation or shelter in place orders are expected</td>\n",
       "      <td>NaN</td>\n",
       "    </tr>\n",
       "    <tr>\n",
       "      <th>3</th>\n",
       "      <td>6</td>\n",
       "      <td>NaN</td>\n",
       "      <td>NaN</td>\n",
       "      <td>13,000 people receive #wildfires evacuation orders in California</td>\n",
       "      <td>1</td>\n",
       "      <td>wildfires</td>\n",
       "      <td>NaN</td>\n",
       "      <td>13,000 people receive wildfires evacuation orders in california</td>\n",
       "      <td>california</td>\n",
       "    </tr>\n",
       "    <tr>\n",
       "      <th>4</th>\n",
       "      <td>7</td>\n",
       "      <td>NaN</td>\n",
       "      <td>NaN</td>\n",
       "      <td>Just got sent this photo from Ruby #Alaska as smoke from #wildfires pours into a school</td>\n",
       "      <td>1</td>\n",
       "      <td>alaska,wildfires</td>\n",
       "      <td>NaN</td>\n",
       "      <td>just got sent this photo from ruby alaska as smoke from wildfires pours into a school</td>\n",
       "      <td>alaska</td>\n",
       "    </tr>\n",
       "    <tr>\n",
       "      <th>...</th>\n",
       "      <td>...</td>\n",
       "      <td>...</td>\n",
       "      <td>...</td>\n",
       "      <td>...</td>\n",
       "      <td>...</td>\n",
       "      <td>...</td>\n",
       "      <td>...</td>\n",
       "      <td>...</td>\n",
       "      <td>...</td>\n",
       "    </tr>\n",
       "    <tr>\n",
       "      <th>7608</th>\n",
       "      <td>10869</td>\n",
       "      <td>NaN</td>\n",
       "      <td>NaN</td>\n",
       "      <td>Two giant cranes holding a bridge collapse into nearby homes http://t.co/STfMbbZFB5</td>\n",
       "      <td>1</td>\n",
       "      <td>NaN</td>\n",
       "      <td>NaN</td>\n",
       "      <td>two giant cranes holding a bridge collapse into nearby homes</td>\n",
       "      <td>NaN</td>\n",
       "    </tr>\n",
       "    <tr>\n",
       "      <th>7609</th>\n",
       "      <td>10870</td>\n",
       "      <td>NaN</td>\n",
       "      <td>NaN</td>\n",
       "      <td>@aria_ahrary @TheTawniest The out of control wild fires in California even in the Northern part of the state. Very troubling.</td>\n",
       "      <td>1</td>\n",
       "      <td>NaN</td>\n",
       "      <td>aria_ahrary,TheTawniest</td>\n",
       "      <td>the out of control wild fires in california even in the northern part of the state. very troubling.</td>\n",
       "      <td>california</td>\n",
       "    </tr>\n",
       "    <tr>\n",
       "      <th>7610</th>\n",
       "      <td>10871</td>\n",
       "      <td>NaN</td>\n",
       "      <td>NaN</td>\n",
       "      <td>M1.94 [01:04 UTC]?5km S of Volcano Hawaii. http://t.co/zDtoyd8EbJ</td>\n",
       "      <td>1</td>\n",
       "      <td>NaN</td>\n",
       "      <td>NaN</td>\n",
       "      <td>m1.94 [01:04 utc]?5km s of volcano hawaii.</td>\n",
       "      <td>hawaii</td>\n",
       "    </tr>\n",
       "    <tr>\n",
       "      <th>7611</th>\n",
       "      <td>10872</td>\n",
       "      <td>NaN</td>\n",
       "      <td>NaN</td>\n",
       "      <td>Police investigating after an e-bike collided with a car in Little Portugal. E-bike rider suffered serious non-life threatening injuries.</td>\n",
       "      <td>1</td>\n",
       "      <td>NaN</td>\n",
       "      <td>NaN</td>\n",
       "      <td>police investigating after an e-bike collided with a car in little portugal. e-bike rider suffered serious non-life threatening injuries.</td>\n",
       "      <td>portugal</td>\n",
       "    </tr>\n",
       "    <tr>\n",
       "      <th>7612</th>\n",
       "      <td>10873</td>\n",
       "      <td>NaN</td>\n",
       "      <td>NaN</td>\n",
       "      <td>The Latest: More Homes Razed by Northern California Wildfire - ABC News http://t.co/YmY4rSkQ3d</td>\n",
       "      <td>1</td>\n",
       "      <td>NaN</td>\n",
       "      <td>NaN</td>\n",
       "      <td>the latest: more homes razed by northern california wildfire - abc news</td>\n",
       "      <td>NaN</td>\n",
       "    </tr>\n",
       "  </tbody>\n",
       "</table>\n",
       "<p>7613 rows × 9 columns</p>\n",
       "</div>"
      ],
      "text/plain": [
       "         id keyword location  \\\n",
       "0         1     NaN      NaN   \n",
       "1         4     NaN      NaN   \n",
       "2         5     NaN      NaN   \n",
       "3         6     NaN      NaN   \n",
       "4         7     NaN      NaN   \n",
       "...     ...     ...      ...   \n",
       "7608  10869     NaN      NaN   \n",
       "7609  10870     NaN      NaN   \n",
       "7610  10871     NaN      NaN   \n",
       "7611  10872     NaN      NaN   \n",
       "7612  10873     NaN      NaN   \n",
       "\n",
       "                                                                                                                                           text  \\\n",
       "0                                                                         Our Deeds are the Reason of this #earthquake May ALLAH Forgive us all   \n",
       "1                                                                                                        Forest fire near La Ronge Sask. Canada   \n",
       "2         All residents asked to 'shelter in place' are being notified by officers. No other evacuation or shelter in place orders are expected   \n",
       "3                                                                             13,000 people receive #wildfires evacuation orders in California    \n",
       "4                                                      Just got sent this photo from Ruby #Alaska as smoke from #wildfires pours into a school    \n",
       "...                                                                                                                                         ...   \n",
       "7608                                                        Two giant cranes holding a bridge collapse into nearby homes http://t.co/STfMbbZFB5   \n",
       "7609              @aria_ahrary @TheTawniest The out of control wild fires in California even in the Northern part of the state. Very troubling.   \n",
       "7610                                                                          M1.94 [01:04 UTC]?5km S of Volcano Hawaii. http://t.co/zDtoyd8EbJ   \n",
       "7611  Police investigating after an e-bike collided with a car in Little Portugal. E-bike rider suffered serious non-life threatening injuries.   \n",
       "7612                                             The Latest: More Homes Razed by Northern California Wildfire - ABC News http://t.co/YmY4rSkQ3d   \n",
       "\n",
       "      target          hashtags                 mentions  \\\n",
       "0          1        earthquake                      NaN   \n",
       "1          1               NaN                      NaN   \n",
       "2          1               NaN                      NaN   \n",
       "3          1         wildfires                      NaN   \n",
       "4          1  alaska,wildfires                      NaN   \n",
       "...      ...               ...                      ...   \n",
       "7608       1               NaN                      NaN   \n",
       "7609       1               NaN  aria_ahrary,TheTawniest   \n",
       "7610       1               NaN                      NaN   \n",
       "7611       1               NaN                      NaN   \n",
       "7612       1               NaN                      NaN   \n",
       "\n",
       "                                                                                                                                           gist  \\\n",
       "0                                                                          our deeds are the reason of this earthquake may allah forgive us all   \n",
       "1                                                                                                        forest fire near la ronge sask. canada   \n",
       "2         all residents asked to 'shelter in place' are being notified by officers. no other evacuation or shelter in place orders are expected   \n",
       "3                                                                              13,000 people receive wildfires evacuation orders in california    \n",
       "4                                                        just got sent this photo from ruby alaska as smoke from wildfires pours into a school    \n",
       "...                                                                                                                                         ...   \n",
       "7608                                                                              two giant cranes holding a bridge collapse into nearby homes    \n",
       "7609                                        the out of control wild fires in california even in the northern part of the state. very troubling.   \n",
       "7610                                                                                                m1.94 [01:04 utc]?5km s of volcano hawaii.    \n",
       "7611  police investigating after an e-bike collided with a car in little portugal. e-bike rider suffered serious non-life threatening injuries.   \n",
       "7612                                                                   the latest: more homes razed by northern california wildfire - abc news    \n",
       "\n",
       "          places  \n",
       "0            NaN  \n",
       "1         canada  \n",
       "2            NaN  \n",
       "3     california  \n",
       "4         alaska  \n",
       "...          ...  \n",
       "7608         NaN  \n",
       "7609  california  \n",
       "7610      hawaii  \n",
       "7611    portugal  \n",
       "7612         NaN  \n",
       "\n",
       "[7613 rows x 9 columns]"
      ]
     },
     "execution_count": 14,
     "metadata": {},
     "output_type": "execute_result"
    }
   ],
   "source": [
    "train_pro"
   ]
  },
  {
   "cell_type": "code",
   "execution_count": 15,
   "id": "710eaa1e",
   "metadata": {},
   "outputs": [
    {
     "ename": "TypeError",
     "evalue": "sequence item 0: expected str instance, spacy.tokens.span.Span found",
     "output_type": "error",
     "traceback": [
      "\u001b[0;31m---------------------------------------------------------------------------\u001b[0m",
      "\u001b[0;31mTypeError\u001b[0m                                 Traceback (most recent call last)",
      "Cell \u001b[0;32mIn[15], line 4\u001b[0m\n\u001b[1;32m      2\u001b[0m doc \u001b[38;5;241m=\u001b[39m nlp(text)\n\u001b[1;32m      3\u001b[0m ls \u001b[38;5;241m=\u001b[39m \u001b[38;5;28mlist\u001b[39m(doc\u001b[38;5;241m.\u001b[39ments)\n\u001b[0;32m----> 4\u001b[0m string \u001b[38;5;241m=\u001b[39m \u001b[38;5;124;43m'\u001b[39;49m\u001b[38;5;124;43m'\u001b[39;49m\u001b[38;5;241;43m.\u001b[39;49m\u001b[43mjoin\u001b[49m\u001b[43m(\u001b[49m\u001b[43mls\u001b[49m\u001b[43m)\u001b[49m\n",
      "\u001b[0;31mTypeError\u001b[0m: sequence item 0: expected str instance, spacy.tokens.span.Span found"
     ]
    }
   ],
   "source": [
    "text = 'Our deeds are the reason for this earthquaqe near Apple and Google office'\n",
    "doc = nlp(text)\n",
    "ls = list(doc.ents)\n",
    "string = ''.join(ls)"
   ]
  },
  {
   "cell_type": "code",
   "execution_count": null,
   "id": "0b40d1e6",
   "metadata": {},
   "outputs": [],
   "source": [
    "doc = nlp(text)"
   ]
  },
  {
   "cell_type": "code",
   "execution_count": null,
   "id": "26a760e9",
   "metadata": {},
   "outputs": [],
   "source": [
    "doc.ents"
   ]
  },
  {
   "cell_type": "code",
   "execution_count": null,
   "id": "b8be81fc",
   "metadata": {},
   "outputs": [],
   "source": [
    "ls = [ent.text for ent in doc.ents]"
   ]
  },
  {
   "cell_type": "code",
   "execution_count": null,
   "id": "fee0c4d3",
   "metadata": {},
   "outputs": [],
   "source": [
    "','.join(ls)"
   ]
  }
 ],
 "metadata": {
  "kernelspec": {
   "display_name": "nlp-disaster-tweets",
   "language": "python",
   "name": "nlp-disaster-tweets"
  },
  "language_info": {
   "codemirror_mode": {
    "name": "ipython",
    "version": 3
   },
   "file_extension": ".py",
   "mimetype": "text/x-python",
   "name": "python",
   "nbconvert_exporter": "python",
   "pygments_lexer": "ipython3",
   "version": "3.9.7"
  }
 },
 "nbformat": 4,
 "nbformat_minor": 5
}
