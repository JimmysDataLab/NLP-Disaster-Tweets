{
 "cells": [
  {
   "cell_type": "code",
   "execution_count": 1,
   "id": "70608913",
   "metadata": {},
   "outputs": [],
   "source": [
    "import pandas as pd\n",
    "import re\n",
    "from collections import Counter"
   ]
  },
  {
   "cell_type": "code",
   "execution_count": 6,
   "id": "0532ffe8",
   "metadata": {},
   "outputs": [],
   "source": [
    "train = pd.read_csv('./data/train.csv')"
   ]
  },
  {
   "cell_type": "markdown",
   "id": "983a1788",
   "metadata": {},
   "source": [
    "## Method -1 \n",
    "### Feature Extraction with Frequencies\n",
    "\n",
    "\n",
    "$$\n",
    "y_i = \\sigma\\left( w_1 \\cdot \\left( \\sum_{j=1}^{k}  p_j \\right) + w_2 \\cdot \\left( \\sum_{j=1}^{k} n_j \\right) + b \\right)\n",
    "$$\n",
    "\n",
    "$$ y_i \\text{ is the i-th target} $$\n",
    "$$ w_1 \\text{ is the weight for positive class} $$\n",
    "$$ w_2 \\text{ is the weight for negative class} $$\n",
    "$$ b \\text{ is the bias term} $$\n",
    "$$ p_j \\text{ is the positive count for the j-th word in the sample} $$\n",
    "$$ n_j \\text{ is the negative count for the j-th word in the sample} $$\n",
    "\n"
   ]
  },
  {
   "cell_type": "code",
   "execution_count": 9,
   "id": "53b6be5c",
   "metadata": {},
   "outputs": [],
   "source": [
    "def process_text(text):\n",
    "    \n",
    "    delimit_string = '!@#$%^&*()-_+={}:;[]\\\\|\\\"\\'<>.,?/~`'\n",
    "    pattern = f\"[{re.escape(delimit_string)}\\\\s]+\"\n",
    "    split_text = re.split(pattern, text)\n",
    "    split_text = [word.lower() for word in split_text if not re.search(r'\\d', word)]\n",
    "    return split_text"
   ]
  },
  {
   "cell_type": "code",
   "execution_count": 14,
   "id": "85b56d8c",
   "metadata": {},
   "outputs": [],
   "source": [
    "vocabulary = set()\n",
    "\n",
    "for i in range(len(train)):\n",
    "    word_list = process_text(train.text[i])\n",
    "    if word_list:\n",
    "        vocabulary.update(word_list)\n",
    "\n",
    "pos = []\n",
    "neg = []\n",
    "for index in train.index:\n",
    "    text = train.loc[index,'text']\n",
    "    if train.loc[index,'target'] == 1:\n",
    "        pos.extend(process_text(text))\n",
    "    else:\n",
    "        neg.extend(process_text(text))\n",
    "        \n",
    "count_pos = Counter(pos)\n",
    "count_neg = Counter(neg)\n",
    "\n",
    "vocabulary_counts = {key:{'pos':count_pos[key],'neg':count_neg[key]} for key in vocabulary}"
   ]
  }
 ],
 "metadata": {
  "kernelspec": {
   "display_name": "nlp-disaster-tweets",
   "language": "python",
   "name": "nlp-disaster-tweets"
  },
  "language_info": {
   "codemirror_mode": {
    "name": "ipython",
    "version": 3
   },
   "file_extension": ".py",
   "mimetype": "text/x-python",
   "name": "python",
   "nbconvert_exporter": "python",
   "pygments_lexer": "ipython3",
   "version": "3.9.7"
  }
 },
 "nbformat": 4,
 "nbformat_minor": 5
}
